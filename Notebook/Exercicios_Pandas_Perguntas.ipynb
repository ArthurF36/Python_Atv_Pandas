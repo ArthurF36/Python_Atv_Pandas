{
  "cells": [
    {
      "cell_type": "markdown",
      "metadata": {
        "id": "AeBGPBkxdHJ6"
      },
      "source": [
        "## Pandas"
      ]
    },
    {
      "cell_type": "markdown",
      "metadata": {
        "id": "Z7UScd3ofS8k"
      },
      "source": [
        "### Instalação do Pandas"
      ]
    },
    {
      "cell_type": "code",
      "execution_count": 2,
      "metadata": {
        "id": "-_bng8fefWVJ"
      },
      "outputs": [
        {
          "name": "stdout",
          "output_type": "stream",
          "text": [
            "Requirement already satisfied: pandas in /home/codespace/.local/lib/python3.12/site-packages (2.3.1)\n",
            "Requirement already satisfied: numpy>=1.26.0 in /home/codespace/.local/lib/python3.12/site-packages (from pandas) (2.3.1)\n",
            "Requirement already satisfied: python-dateutil>=2.8.2 in /home/codespace/.local/lib/python3.12/site-packages (from pandas) (2.9.0.post0)\n",
            "Requirement already satisfied: pytz>=2020.1 in /home/codespace/.local/lib/python3.12/site-packages (from pandas) (2025.2)\n",
            "Requirement already satisfied: tzdata>=2022.7 in /home/codespace/.local/lib/python3.12/site-packages (from pandas) (2025.2)\n",
            "Requirement already satisfied: six>=1.5 in /home/codespace/.local/lib/python3.12/site-packages (from python-dateutil>=2.8.2->pandas) (1.17.0)\n",
            "\n",
            "\u001b[1m[\u001b[0m\u001b[34;49mnotice\u001b[0m\u001b[1;39;49m]\u001b[0m\u001b[39;49m A new release of pip is available: \u001b[0m\u001b[31;49m25.1.1\u001b[0m\u001b[39;49m -> \u001b[0m\u001b[32;49m25.2\u001b[0m\n",
            "\u001b[1m[\u001b[0m\u001b[34;49mnotice\u001b[0m\u001b[1;39;49m]\u001b[0m\u001b[39;49m To update, run: \u001b[0m\u001b[32;49mpython3 -m pip install --upgrade pip\u001b[0m\n"
          ]
        }
      ],
      "source": [
        "# Alternativa 1\n",
        "!pip install pandas # alternative: conda install pandas"
      ]
    },
    {
      "cell_type": "markdown",
      "metadata": {
        "id": "xRrsSzVezUhj"
      },
      "source": [
        "### Introduzindo Séries de Dados do Pandas"
      ]
    },
    {
      "cell_type": "markdown",
      "metadata": {
        "id": "VDK_Ly29gals"
      },
      "source": [
        "1 - Importe as bibliotecas pandas e numpy com os aliases 'pd' e 'np', respectivamente."
      ]
    },
    {
      "cell_type": "code",
      "execution_count": null,
      "metadata": {
        "id": "_M2QbWdPgauN"
      },
      "outputs": [],
      "source": [
        "import pandas as pd\n",
        "import numpy as np"
      ]
    },
    {
      "cell_type": "markdown",
      "metadata": {
        "id": "LdbbLUK7fm7o"
      },
      "source": [
        "2 - Utilize o numpy para criar um array com 10 elementos de números inteiros aleatórios entre 50 e 100. Em seguida, transforme-o em uma série do pandas e a exiba."
      ]
    },
    {
      "cell_type": "code",
      "execution_count": 46,
      "metadata": {
        "id": "wFiHFFelfnCZ"
      },
      "outputs": [
        {
          "name": "stdout",
          "output_type": "stream",
          "text": [
            "Dataframe 1: \n",
            "0    87\n",
            "1    63\n",
            "2    58\n",
            "3    51\n",
            "4    81\n",
            "5    74\n",
            "6    60\n",
            "7    80\n",
            "8    99\n",
            "9    68\n",
            "dtype: int64\n"
          ]
        }
      ],
      "source": [
        "# Insira a resposta abaixo.\n",
        "arrayQtd10 = np.random.randint(50, 101, 10)\n",
        "df_array = pd.Series(arrayQtd10)\n",
        "\n",
        "print(f\"Dataframe 1: \\n{df_array}\")"
      ]
    },
    {
      "cell_type": "markdown",
      "metadata": {
        "id": "5SxiYJirsY-X"
      },
      "source": [
        "3 - Utilize a função range do Python para criar uma série do Pandas contendo 10 elementos cujos índices sejam uma sequência ascendente de números ímpares  e os valores sejam uma sequência descendente de números inteiros de 10 a 1. Em seguida, converta o tipo numérico da série criada para 'int32' e exiba a série."
      ]
    },
    {
      "cell_type": "code",
      "execution_count": 79,
      "metadata": {
        "id": "DunzR3rBsZHY"
      },
      "outputs": [
        {
          "name": "stdout",
          "output_type": "stream",
          "text": [
            "Dataframe 2: \n",
            "1     10\n",
            "3      9\n",
            "5      8\n",
            "7      7\n",
            "9      6\n",
            "11     5\n",
            "13     4\n",
            "15     3\n",
            "17     2\n",
            "19     1\n",
            "dtype: int32\n"
          ]
        }
      ],
      "source": [
        "# Insira a resposta abaixo.\n",
        "np_valor = np.arange(10, 0, -1)\n",
        "np_range = np.arange(1, 2 * len(np_valor))\n",
        "lista_indice = []\n",
        "\n",
        "for i in np_range:\n",
        "    if i % 2 != 0:\n",
        "        lista_indice.append(i)\n",
        "\n",
        "np_indice = np.array(lista_indice)\n",
        "\n",
        "df_serie = pd.Series(data = np_valor, index = np_indice)\n",
        "df_serie = df_serie.astype('int32')\n",
        "\n",
        "print(f\"Dataframe 2: \\n{df_serie}\")\n"
      ]
    },
    {
      "cell_type": "markdown",
      "metadata": {
        "id": "Y3VEvHJ-zZBb"
      },
      "source": [
        "4 - Abaixo são definidos dois dicionários contendo capitais brasileiras com a população estimada para os anos de 2000 e 2018. Utilize ambos os dicionários definidos abaixos para criar dois objetos do tipo Series."
      ]
    },
    {
      "cell_type": "code",
      "execution_count": null,
      "metadata": {
        "id": "9fbQCt3azUoD"
      },
      "outputs": [],
      "source": [
        "populacao2000 = {'São Paulo': 10405867, 'Rio de Janeiro': 5851914, 'Salvador': 2440828, 'Belo Horizonte':2232747, 'Fortaleza':2138234\t}\n",
        "populacao2018 = {'São Paulo': 12176866, 'Rio de Janeiro': 6688927, 'Brasília': 2974703, 'Salvador': 2857329, 'Fortaleza': 2643247}\n",
        "\n",
        "# Insira a resposta abaixo."
      ]
    },
    {
      "cell_type": "markdown",
      "metadata": {
        "id": "Au1q_EAezSRI"
      },
      "source": [
        "#### Operações Aritméticas com Séries"
      ]
    },
    {
      "cell_type": "markdown",
      "metadata": {
        "id": "4Lbr0016g9SQ"
      },
      "source": [
        "5 - Crie uma nova série contendo a diferença entre as populações de 2018 e 2010."
      ]
    },
    {
      "cell_type": "code",
      "execution_count": null,
      "metadata": {
        "id": "LbKoEIRAg9ZL"
      },
      "outputs": [],
      "source": [
        "# Insira a resposta abaixo."
      ]
    },
    {
      "cell_type": "markdown",
      "metadata": {
        "id": "JK6NbPy_zQYM"
      },
      "source": [
        "6 - Crie uma nova série contendo a média entre as duas séries iniciais."
      ]
    },
    {
      "cell_type": "code",
      "execution_count": null,
      "metadata": {
        "id": "jVN_W1bduy0M"
      },
      "outputs": [],
      "source": [
        "# Insira a resposta abaixo."
      ]
    },
    {
      "cell_type": "markdown",
      "metadata": {
        "id": "C8-PDmX91LpE"
      },
      "source": [
        "### Introduzindo Dataframes"
      ]
    },
    {
      "cell_type": "markdown",
      "metadata": {
        "id": "XpDXbeFY3e8R"
      },
      "source": [
        "7 - Crie um dicionário cujas chaves sejam: 2000, 2018, 'diferenca', 'media'. Utilize como valores as séries correspondentes criadas nas questões anteriores. Utilize esse dicionário para criar um dataframe."
      ]
    },
    {
      "cell_type": "code",
      "execution_count": null,
      "metadata": {
        "id": "BBGcpyt83ftD"
      },
      "outputs": [],
      "source": [
        "# Insira a resposta abaixo.\n"
      ]
    },
    {
      "cell_type": "markdown",
      "metadata": {
        "id": "Ypf2B_IMXCBp"
      },
      "source": [
        "8 - Desta vez, crie um dataframe equivalente ao criado na questão anterior concatenando as quatro séries (referentes a 2000, 2018, diferença e média). Lembre-se de inserir os mesmos títulos para as colunas."
      ]
    },
    {
      "cell_type": "code",
      "execution_count": null,
      "metadata": {
        "id": "CnsXCKTIXCPK"
      },
      "outputs": [],
      "source": [
        "# Inserir a resposta abaixo.\n"
      ]
    },
    {
      "cell_type": "markdown",
      "metadata": {
        "id": "Fb0mFiAWA3pa"
      },
      "source": [
        "9 - Adicione uma nova coluna ao dataframe anterior chamada 2019, esta deve conter um acréscimo de 50000 sobre os valores da coluna 2018."
      ]
    },
    {
      "cell_type": "code",
      "execution_count": null,
      "metadata": {
        "id": "jPwiPongA3xO"
      },
      "outputs": [],
      "source": [
        "# Insira a resposta abaixo.\n"
      ]
    },
    {
      "cell_type": "markdown",
      "metadata": {
        "id": "BCB_sBTKacwr"
      },
      "source": [
        "10 - Exiba somente os dados referentes a Salvador."
      ]
    },
    {
      "cell_type": "code",
      "execution_count": null,
      "metadata": {
        "id": "Hnax97HBac7y"
      },
      "outputs": [],
      "source": [
        "# Insira a resposta abaixo."
      ]
    },
    {
      "cell_type": "markdown",
      "metadata": {
        "id": "hG4JP1_ZpIxL"
      },
      "source": [
        "11 - Exiba ** a terceira linha** do dataframe utilizando o seu posicionamento no dataframe."
      ]
    },
    {
      "cell_type": "code",
      "execution_count": null,
      "metadata": {
        "id": "voAWVOg3pJBG"
      },
      "outputs": [],
      "source": [
        "# Insira a resposta abaixo."
      ]
    },
    {
      "cell_type": "markdown",
      "metadata": {
        "id": "wZ-8j5YHZENp"
      },
      "source": [
        "12 - Exiba as **três primeiras linhas** do dataframe a partir da posição."
      ]
    },
    {
      "cell_type": "code",
      "execution_count": null,
      "metadata": {
        "id": "D7E2hQ52ZEUu"
      },
      "outputs": [],
      "source": [
        "# Insira a resposta abaixo."
      ]
    },
    {
      "cell_type": "markdown",
      "metadata": {
        "id": "MguA1q5BbG4C"
      },
      "source": [
        "13 - Remova a coluna 2019 criada anteriormente."
      ]
    },
    {
      "cell_type": "code",
      "execution_count": null,
      "metadata": {
        "id": "GX96UlEKbG-1"
      },
      "outputs": [],
      "source": [
        "# Insira a resposta abaixo."
      ]
    },
    {
      "cell_type": "markdown",
      "metadata": {
        "id": "Gf1KCDk7cHQG"
      },
      "source": [
        "14 - Remova os registros que apresentam valores nulos."
      ]
    },
    {
      "cell_type": "code",
      "execution_count": null,
      "metadata": {
        "id": "t7GfFUtDcHWz"
      },
      "outputs": [],
      "source": [
        "# Insira a resposta abaixo."
      ]
    },
    {
      "cell_type": "markdown",
      "metadata": {
        "id": "vvg70YllmjYN"
      },
      "source": [
        "### Exercícios com base de dados fictícia (toy dataset)"
      ]
    },
    {
      "cell_type": "markdown",
      "metadata": {
        "id": "WxSVpF1fP3Wm"
      },
      "source": [
        "Execute o bloco de código abaixo para realizar o download de uma pequena base de dados que será utilizada para os próximos experimentos. A base de dados poderá ser acessada através do arquivo toy_dataset.csv. Caso a sessão se encerre, re-execute essa célula de código."
      ]
    },
    {
      "cell_type": "markdown",
      "metadata": {
        "id": "hZJwgYWBSfTg"
      },
      "source": [
        "15 - Execute a leitura do Toy Dataset diretamente em um dataframe.\n",
        "\n",
        "> O toy dataset foi disponibilizado em conjunto com o notebook."
      ]
    },
    {
      "cell_type": "code",
      "execution_count": null,
      "metadata": {
        "id": "H18ZsFySSfri"
      },
      "outputs": [],
      "source": [
        "# Insira a resposta abaixo."
      ]
    },
    {
      "cell_type": "markdown",
      "metadata": {
        "id": "8N9Nt4oETf5x"
      },
      "source": [
        "16 - Exiba o tipo de dados de cada coluna do dataframe."
      ]
    },
    {
      "cell_type": "code",
      "execution_count": null,
      "metadata": {
        "id": "d2DP3VBuTf_O"
      },
      "outputs": [],
      "source": [
        "# Insira a resposta abaixo."
      ]
    },
    {
      "cell_type": "markdown",
      "metadata": {
        "id": "6DSkip22TRQc"
      },
      "source": [
        "17 - Utilize a função .head() para exibir o cabeçalho do dataframe e assim conhecer as colunas, o índice e as linhas iniciais da base de dados."
      ]
    },
    {
      "cell_type": "code",
      "execution_count": null,
      "metadata": {
        "id": "DoD2Ud8oTRWm"
      },
      "outputs": [],
      "source": [
        "# Insira a resposta abaixo."
      ]
    },
    {
      "cell_type": "markdown",
      "metadata": {
        "id": "8oqPwJv9g1yq"
      },
      "source": [
        "18 - Realize as seguintes operações:\n",
        "\n",
        "- Adicione uma nova coluna chamada NumberAge e que apresente a soma entre os valores da coluna Number com os valores da coluna Age.\n",
        "- Exiba o cabeçalho do dataframe resultante.\n",
        "- Remova a coluna NumberAge.\n",
        "- Exiba o cabeçalho do dataframe resultante."
      ]
    },
    {
      "cell_type": "code",
      "execution_count": null,
      "metadata": {
        "id": "fzA8Sd4dg12m"
      },
      "outputs": [],
      "source": [
        "# Insira a resposta abaixo."
      ]
    },
    {
      "cell_type": "markdown",
      "metadata": {
        "id": "qI5Keo5qYCZw"
      },
      "source": [
        "19 - Realize as seguintes operações a partir do dataframe definido anteriormente:\n",
        "\n",
        "- Exiba as cinco primeiras linhas do dataframe, todos os atributos devem ser apresentados com exceção do primeiro e último.\n",
        "\n",
        "- Exiba as cinco últimas linhas do dataframe, exiba somente o atributo City."
      ]
    },
    {
      "cell_type": "code",
      "execution_count": null,
      "metadata": {
        "id": "h-p0mDxGYCfz"
      },
      "outputs": [],
      "source": [
        "# Insira a resposta abaixo."
      ]
    },
    {
      "cell_type": "markdown",
      "metadata": {
        "id": "ABvg8q8_-vHl"
      },
      "source": [
        "20 - Ordene de forma ascendente as amostras utilizando como critério o salário anual. Em seguida, resete os índices dos registros."
      ]
    },
    {
      "cell_type": "code",
      "execution_count": null,
      "metadata": {
        "id": "L37Nscj--vRi"
      },
      "outputs": [],
      "source": [
        "# Insira a resposta abaixo."
      ]
    },
    {
      "cell_type": "markdown",
      "metadata": {
        "id": "djZG9RbF-83m"
      },
      "source": [
        "**21 - Defina a coluna 'Number' como o índice do dataframe. Em seguida, exiba do segundo até o quinto registro a partir do posicionamento.**"
      ]
    },
    {
      "cell_type": "code",
      "execution_count": null,
      "metadata": {
        "id": "542ZgC-i-89B"
      },
      "outputs": [],
      "source": [
        "# Insira a resposta abaixo."
      ]
    },
    {
      "cell_type": "markdown",
      "metadata": {
        "id": "kY8O4jyXiup0"
      },
      "source": [
        "22 - Desta vez, exiba os registros com Number variando de 2 até 5 a partir do próprio rótulo Number."
      ]
    },
    {
      "cell_type": "code",
      "execution_count": null,
      "metadata": {
        "id": "PyivKqYeiuii"
      },
      "outputs": [],
      "source": [
        "# Insira a resposta abaixo."
      ]
    },
    {
      "cell_type": "markdown",
      "metadata": {
        "id": "_85K8jGwILdr"
      },
      "source": [
        "23 - Qual a cidade e o gênero da pessoa com a maior renda (Income)?"
      ]
    },
    {
      "cell_type": "code",
      "execution_count": null,
      "metadata": {
        "id": "V0Zk-WpiILlg"
      },
      "outputs": [],
      "source": [
        "# Insira a resposta abaixo."
      ]
    },
    {
      "cell_type": "markdown",
      "metadata": {
        "id": "JQLxC3FZYClW"
      },
      "source": [
        "24 - Quantas pessoas moram na cidade de Dallas?"
      ]
    },
    {
      "cell_type": "code",
      "execution_count": null,
      "metadata": {
        "id": "L0XPIO7-YCqh"
      },
      "outputs": [],
      "source": [
        "# Insira a resposta abaixo."
      ]
    },
    {
      "cell_type": "markdown",
      "metadata": {
        "id": "Yk1cNzuaYCwe"
      },
      "source": [
        "25 - Qual a idade média das pessoas que estão doentes? Utilize o atributo Illness para obter essa informação."
      ]
    },
    {
      "cell_type": "code",
      "execution_count": null,
      "metadata": {
        "id": "ITImJ5jkYC1K"
      },
      "outputs": [],
      "source": [
        "# Insira a resposta abaixo."
      ]
    },
    {
      "cell_type": "markdown",
      "metadata": {
        "id": "lic0gp9Pf4WP"
      },
      "source": [
        "26 - Quantas pessoas tem um salário anual maior que R$ 30000?"
      ]
    },
    {
      "cell_type": "code",
      "execution_count": null,
      "metadata": {
        "id": "TLG5DAxAf4c8"
      },
      "outputs": [],
      "source": [
        "# Insira a resposta abaixo."
      ]
    },
    {
      "cell_type": "markdown",
      "metadata": {
        "id": "xYirQSRegB3r"
      },
      "source": [
        "27 - Quantas pessoas estão doentes?"
      ]
    },
    {
      "cell_type": "code",
      "execution_count": null,
      "metadata": {
        "id": "yD9reWNbgB88"
      },
      "outputs": [],
      "source": [
        "# Insira a resposta abaixo."
      ]
    },
    {
      "cell_type": "markdown",
      "metadata": {
        "id": "swh6nAWH6pAa"
      },
      "source": [
        "28 - Quantas pessoas estão doente e apresentam renda (Income) menor que 35000 ou maior que 50000?"
      ]
    },
    {
      "cell_type": "code",
      "execution_count": null,
      "metadata": {
        "id": "3dqh-jVH6pL6"
      },
      "outputs": [],
      "source": [
        "# Insira a resposta abaixo."
      ]
    },
    {
      "cell_type": "markdown",
      "metadata": {
        "id": "gIOB9N0tgNw1"
      },
      "source": [
        "29 - Mostre os registros que apresentam a menor idade encontrada e uma renda entre 40000 e 42000."
      ]
    },
    {
      "cell_type": "code",
      "execution_count": null,
      "metadata": {
        "id": "nQ62IHiggPql"
      },
      "outputs": [],
      "source": [
        "# Insira a resposta abaixo."
      ]
    },
    {
      "cell_type": "markdown",
      "metadata": {
        "id": "wI7SidOsrZ_x"
      },
      "source": [
        "30 - Mostre os registros referentes a cidade de Dallas que apresentam a maior idade e que estão doentes."
      ]
    },
    {
      "cell_type": "code",
      "execution_count": null,
      "metadata": {
        "id": "Mom0InHirZ2m"
      },
      "outputs": [],
      "source": [
        "# Insira a resposta abaixo."
      ]
    }
  ],
  "metadata": {
    "colab": {
      "provenance": []
    },
    "kernelspec": {
      "display_name": "Python 3",
      "language": "python",
      "name": "python3"
    },
    "language_info": {
      "codemirror_mode": {
        "name": "ipython",
        "version": 3
      },
      "file_extension": ".py",
      "mimetype": "text/x-python",
      "name": "python",
      "nbconvert_exporter": "python",
      "pygments_lexer": "ipython3",
      "version": "3.12.1"
    }
  },
  "nbformat": 4,
  "nbformat_minor": 0
}
